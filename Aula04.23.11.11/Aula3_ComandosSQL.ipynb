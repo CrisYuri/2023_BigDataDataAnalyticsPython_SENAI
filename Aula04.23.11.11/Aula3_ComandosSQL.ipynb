{
 "cells": [
  {
   "cell_type": "code",
   "execution_count": 9,
   "metadata": {},
   "outputs": [
    {
     "name": "stdout",
     "output_type": "stream",
     "text": [
      "Tabela Usuarios Criada com sucesso\n"
     ]
    }
   ],
   "source": [
    "import sqlite3\n",
    "\n",
    "BD = sqlite3.connect(\"MyBD_py.db\")\n",
    "\n",
    "c = BD.cursor()\n",
    "\n",
    "c.execute(\"\"\"CREATE TABLE IF NOT EXISTS usuarios (\n",
    "          id INTEGER PRIMARY KEY AUTOINCREMENT,\n",
    "          nome VARCHAR(50),\n",
    "          email VARCHAR(100),\n",
    "          senha VARCHAR(50)\n",
    ")\"\"\")\n",
    "\n",
    "print(\"Tabela Usuarios Criada com sucesso\")\n",
    "\n",
    "BD.commit()\n",
    "\n",
    "BD.close()"
   ]
  },
  {
   "cell_type": "code",
   "execution_count": 10,
   "metadata": {},
   "outputs": [
    {
     "ename": "OperationalError",
     "evalue": "duplicate column name: data_nascimento",
     "output_type": "error",
     "traceback": [
      "\u001b[0;31m---------------------------------------------------------------------------\u001b[0m",
      "\u001b[0;31mOperationalError\u001b[0m                          Traceback (most recent call last)",
      "\u001b[1;32m/Users/crisyuriok/Library/CloudStorage/OneDrive-Personal/1-BigDataDataAnalyticsPyhton/Aula3_ComandosSQL.ipynb Cell 2\u001b[0m line \u001b[0;36m7\n\u001b[1;32m      <a href='vscode-notebook-cell:/Users/crisyuriok/Library/CloudStorage/OneDrive-Personal/1-BigDataDataAnalyticsPyhton/Aula3_ComandosSQL.ipynb#W1sZmlsZQ%3D%3D?line=2'>3</a>\u001b[0m BD \u001b[39m=\u001b[39m sqlite3\u001b[39m.\u001b[39mconnect(\u001b[39m\"\u001b[39m\u001b[39mMyBD_py.db\u001b[39m\u001b[39m\"\u001b[39m)\n\u001b[1;32m      <a href='vscode-notebook-cell:/Users/crisyuriok/Library/CloudStorage/OneDrive-Personal/1-BigDataDataAnalyticsPyhton/Aula3_ComandosSQL.ipynb#W1sZmlsZQ%3D%3D?line=4'>5</a>\u001b[0m c\u001b[39m=\u001b[39m BD\u001b[39m.\u001b[39mcursor()\n\u001b[0;32m----> <a href='vscode-notebook-cell:/Users/crisyuriok/Library/CloudStorage/OneDrive-Personal/1-BigDataDataAnalyticsPyhton/Aula3_ComandosSQL.ipynb#W1sZmlsZQ%3D%3D?line=6'>7</a>\u001b[0m c\u001b[39m.\u001b[39mexecute(\u001b[39m\"\"\"\u001b[39m\u001b[39mALTER TABLE usuarios ADD data_nascimento VARCHAR(10)\u001b[39m\u001b[39m\"\"\"\u001b[39m)\n\u001b[1;32m      <a href='vscode-notebook-cell:/Users/crisyuriok/Library/CloudStorage/OneDrive-Personal/1-BigDataDataAnalyticsPyhton/Aula3_ComandosSQL.ipynb#W1sZmlsZQ%3D%3D?line=8'>9</a>\u001b[0m \u001b[39mprint\u001b[39m(\u001b[39m\"\u001b[39m\u001b[39mTabela Usuarios Alterada com sucesso\u001b[39m\u001b[39m\"\u001b[39m)\n\u001b[1;32m     <a href='vscode-notebook-cell:/Users/crisyuriok/Library/CloudStorage/OneDrive-Personal/1-BigDataDataAnalyticsPyhton/Aula3_ComandosSQL.ipynb#W1sZmlsZQ%3D%3D?line=10'>11</a>\u001b[0m BD\u001b[39m.\u001b[39mcommit()\n",
      "\u001b[0;31mOperationalError\u001b[0m: duplicate column name: data_nascimento"
     ]
    }
   ],
   "source": [
    "import sqlite3\n",
    "\n",
    "BD = sqlite3.connect(\"MyBD_py.db\")\n",
    "\n",
    "c= BD.cursor()\n",
    "\n",
    "c.execute(\"\"\"ALTER TABLE usuarios ADD data_nascimento VARCHAR(10)\"\"\")\n",
    "\n",
    "print(\"Tabela Usuarios Alterada com sucesso\")\n",
    "\n",
    "BD.commit()\n",
    "\n",
    "BD.close()"
   ]
  },
  {
   "cell_type": "code",
   "execution_count": 11,
   "metadata": {},
   "outputs": [
    {
     "name": "stdout",
     "output_type": "stream",
     "text": [
      "Usuarios Adicionados com sucesso V1\n"
     ]
    }
   ],
   "source": [
    "import sqlite3\n",
    "\n",
    "BD = sqlite3.connect(\"MyBD_py.db\")\n",
    "\n",
    "c = BD.cursor()\n",
    "\n",
    "c.execute(\"\"\"INSERT INTO usuarios(nome, email, senha, data_nascimento)\n",
    "          VALUES('Joao','joao_e_maria@gmail.com','Maria123','21/05/1989')\"\"\")\n",
    "c.execute(\"\"\"INSERT INTO usuarios(nome, email, senha, data_nascimento)\n",
    "          VALUES('Roberto','beto@gmail.com','Beto123','15/11/2000')\"\"\")\n",
    "c.execute(\"\"\"INSERT INTO usuarios(nome, email, senha, data_nascimento)\n",
    "          VALUES('Marcia','Marcinha@gmail.com','Marcinha123','07/01/1993')\"\"\")\n",
    "\n",
    "print(\"Usuarios Adicionados com sucesso V1\")\n",
    "\n",
    "BD.commit()\n",
    "\n",
    "BD.close()"
   ]
  },
  {
   "cell_type": "code",
   "execution_count": 12,
   "metadata": {},
   "outputs": [
    {
     "name": "stdout",
     "output_type": "stream",
     "text": [
      "[(1, 'Joao', 'joao_e_maria@gmail.com', 'Maria123', '21/05/1989'), (2, 'Roberto', 'beto@gmail.com', 'Beto123', '15/11/2000'), (3, 'Marcia', 'Marcinha@gmail.com', 'Marcinha123', '07/01/1993')]\n"
     ]
    }
   ],
   "source": [
    "import sqlite3\n",
    "\n",
    "BD = sqlite3.connect(\"MyBD_py.db\")\n",
    "\n",
    "c = BD.cursor()\n",
    "\n",
    "c.execute(\"SELECT * FROM usuarios\")\n",
    "\n",
    "print(c.fetchall())\n",
    "\n"
   ]
  },
  {
   "cell_type": "code",
   "execution_count": 14,
   "metadata": {},
   "outputs": [
    {
     "name": "stdout",
     "output_type": "stream",
     "text": [
      "Usuarios Adicionados com sucesso V2\n"
     ]
    }
   ],
   "source": [
    "import sqlite3\n",
    "\n",
    "BD = sqlite3.connect(\"MyBD_py.db\", timeout=60)\n",
    "\n",
    "c= BD.cursor()\n",
    "\n",
    "lista = [\n",
    "    ('Fernando', 'Nando89@gmail.com','Nando123', '21/05/1989'),\n",
    "    ('Gilmar', 'Gil@gmail.com', 'Gilmar123', '07/12/1999'),\n",
    "    ('Carlos', 'carlinhos1988@gmail.com', 'Carlinhos123', '18/06/1988')\n",
    "]\n",
    "\n",
    "c.executemany(\"\"\"INSERT INTO usuarios(nome, email, senha, data_nascimento) VALUES(?,?,?,?)\"\"\",\n",
    "              lista)\n",
    "\n",
    "print(\"Usuarios Adicionados com sucesso V2\")\n",
    "\n",
    "BD.commit()\n",
    "\n",
    "BD.close()"
   ]
  },
  {
   "cell_type": "code",
   "execution_count": 15,
   "metadata": {},
   "outputs": [
    {
     "name": "stdout",
     "output_type": "stream",
     "text": [
      "[(1, 'Joao', 'joao_e_maria@gmail.com', 'Maria123', '21/05/1989'), (2, 'Roberto', 'beto@gmail.com', 'Beto123', '15/11/2000'), (3, 'Marcia', 'Marcinha@gmail.com', 'Marcinha123', '07/01/1993'), (4, 'Fernando', 'Nando89@gmail.com', 'Nando123', '21/05/1989'), (5, 'Gilmar', 'Gil@gmail.com', 'Gilmar123', '07/12/1999'), (6, 'Carlos', 'carlinhos1988@gmail.com', 'Carlinhos123', '18/06/1988')]\n"
     ]
    }
   ],
   "source": [
    "import sqlite3\n",
    "\n",
    "BD = sqlite3.connect(\"MyBD_py.db\")\n",
    "\n",
    "c = BD.cursor()\n",
    "\n",
    "c.execute(\"SELECT * FROM usuarios\")\n",
    "\n",
    "print(c.fetchall())"
   ]
  },
  {
   "cell_type": "code",
   "execution_count": 18,
   "metadata": {},
   "outputs": [
    {
     "name": "stdout",
     "output_type": "stream",
     "text": [
      "Usuarios Adicionados com sucesso V3\n"
     ]
    }
   ],
   "source": [
    "import sqlite3\n",
    "\n",
    "BD = sqlite3.connect(\"MyBD_py.db\")\n",
    "c = BD.cursor()\n",
    "\n",
    "p_nome = input('Nome: ')\n",
    "p_email = input('Email: ')\n",
    "p_senha = input ('Senha: ' )\n",
    "p_data_de_nascimento = input ('Data de Nascimento (dd/mm/yyyy): ')\n",
    "\n",
    "c.execute(\"\"\"INSERT INTO usuarios(nome, email, senha, data_nascimento) VALUES (?,?,?,?)\"\"\",\n",
    "          (p_nome, p_email, p_senha, p_data_de_nascimento))\n",
    "\n",
    "print(\"Usuarios Adicionados com sucesso V3\")\n",
    "\n",
    "BD.commit()\n",
    "\n",
    "BD.close()"
   ]
  },
  {
   "cell_type": "code",
   "execution_count": 19,
   "metadata": {},
   "outputs": [
    {
     "name": "stdout",
     "output_type": "stream",
     "text": [
      "[(1, 'Joao', 'joao_e_maria@gmail.com', 'Maria123', '21/05/1989'), (2, 'Roberto', 'beto@gmail.com', 'Beto123', '15/11/2000'), (3, 'Marcia', 'Marcinha@gmail.com', 'Marcinha123', '07/01/1993'), (4, 'Fernando', 'Nando89@gmail.com', 'Nando123', '21/05/1989'), (5, 'Gilmar', 'Gil@gmail.com', 'Gilmar123', '07/12/1999'), (6, 'Carlos', 'carlinhos1988@gmail.com', 'Carlinhos123', '18/06/1988'), (7, 'Cris', 'cris@gmail.com', 'Cris123', '06/09/1981')]\n"
     ]
    }
   ],
   "source": [
    "import sqlite3\n",
    "\n",
    "BD = sqlite3.connect(\"MyBD_py.db\")\n",
    "\n",
    "c = BD.cursor()\n",
    "\n",
    "c.execute(\"SELECT * FROM usuarios\")\n",
    "\n",
    "print(c.fetchall())"
   ]
  },
  {
   "cell_type": "code",
   "execution_count": 28,
   "metadata": {},
   "outputs": [
    {
     "name": "stdout",
     "output_type": "stream",
     "text": [
      "Usuario 1 modificado com sucesso V1\n"
     ]
    }
   ],
   "source": [
    "import sqlite3\n",
    "\n",
    "BD = sqlite3.connect(\"MyBD_py.db\")\n",
    "c = BD.cursor()\n",
    "\n",
    "id_usuario = 1\n",
    "novo_nome = \"Luiza\"\n",
    "novo_email = \"luiza@uol.com.br\"\n",
    "nova_senha = \"souLinda123\"\n",
    "nova_data_de_nascimento = \"02/02/2002\"\n",
    "\n",
    "c.execute(\"\"\"UPDATE usuarios SET nome=?, email=?, senha=?, data_nascimento=? WHERE id=? \"\"\",\n",
    "          (novo_nome, novo_email, nova_senha, nova_data_de_nascimento, id_usuario))\n",
    "\n",
    "BD.commit()\n",
    "\n",
    "print(f\"Usuario {id_usuario} modificado com sucesso V1\")\n",
    "\n",
    "BD.close()"
   ]
  },
  {
   "cell_type": "code",
   "execution_count": 29,
   "metadata": {},
   "outputs": [
    {
     "name": "stdout",
     "output_type": "stream",
     "text": [
      "[(1, 'Luiza', 'luiza@uol.com.br', 'souLinda123', '02/02/2002'), (2, 'Roberto', 'beto@gmail.com', 'Beto123', '15/11/2000'), (3, 'Marcia', 'Marcinha@gmail.com', 'Marcinha123', '07/01/1993'), (4, 'Fernando', 'Nando89@gmail.com', 'Nando123', '21/05/1989'), (5, 'Gilmar', 'Gil@gmail.com', 'Gilmar123', '07/12/1999'), (6, 'Carlos', 'carlinhos1988@gmail.com', 'Carlinhos123', '18/06/1988'), (7, 'Cris', 'cris@gmail.com', 'Cris123', '06/09/1981')]\n"
     ]
    }
   ],
   "source": [
    "import sqlite3\n",
    "\n",
    "BD = sqlite3.connect(\"MyBD_py.db\")\n",
    "\n",
    "c = BD.cursor()\n",
    "\n",
    "c.execute(\"SELECT * FROM usuarios\")\n",
    "\n",
    "print(c.fetchall())"
   ]
  },
  {
   "cell_type": "code",
   "execution_count": 31,
   "metadata": {},
   "outputs": [
    {
     "name": "stdout",
     "output_type": "stream",
     "text": [
      "(1, 'Luiza', 'luiza@uol.com.br', 'souLinda123', '02/02/2002')\n",
      "(2, 'Roberto', 'beto@gmail.com', 'Beto123', '15/11/2000')\n",
      "(3, 'Marcia', 'Marcinha@gmail.com', 'Marcinha123', '07/01/1993')\n",
      "(4, 'Fernando', 'Nando89@gmail.com', 'Nando123', '21/05/1989')\n",
      "(5, 'Gilmar', 'Gil@gmail.com', 'Gilmar123', '07/12/1999')\n",
      "(6, 'Carlos', 'carlinhos1988@gmail.com', 'Carlinhos123', '18/06/1988')\n",
      "(7, 'Cris', 'cris@gmail.com', 'Cris123', '06/09/1981')\n",
      "Usuarios 2 modiﬁcado com sucesso V2\n"
     ]
    }
   ],
   "source": [
    "import sqlite3\n",
    "\n",
    "BD = sqlite3.connect(\"MyBD_py.db\")\n",
    "\n",
    "c = BD.cursor()\n",
    "\n",
    "\n",
    "c.execute(\"\"\"SELECT * FROM usuarios\"\"\")\n",
    "\n",
    "for linha in c.fetchall():\n",
    "    print(linha)\n",
    "\n",
    "id_usuario = input ('Id do usuario : ' ) \n",
    "novo_nome =input('Nome: ') \n",
    "novo_email = input ('Email: ' )\n",
    "nova_senha = input ('Senha: ' ) \n",
    "nova_data_de_nascimento = input ('Data de Nascimento (dd/mm/yyyy): ')\n",
    "\n",
    "c.execute(\"\"\"UPDATE usuarios SET nome=?, email=?, senha=?, data_nascimento=? WHERE id=? \"\"\", \n",
    "          (novo_nome, novo_email, nova_senha, nova_data_de_nascimento,id_usuario))\n",
    "\n",
    "BD.commit()\n",
    "\n",
    "print(f\"Usuarios { id_usuario } modiﬁcado com sucesso V2\")\n",
    "\n",
    "BD.close()"
   ]
  },
  {
   "cell_type": "code",
   "execution_count": 32,
   "metadata": {},
   "outputs": [
    {
     "name": "stdout",
     "output_type": "stream",
     "text": [
      "[(1, 'Luiza', 'luiza@uol.com.br', 'souLinda123', '02/02/2002'), (2, 'Ric', 'rico@gmail.com', 'Rico$$$', '04/09/1979'), (3, 'Marcia', 'Marcinha@gmail.com', 'Marcinha123', '07/01/1993'), (4, 'Fernando', 'Nando89@gmail.com', 'Nando123', '21/05/1989'), (5, 'Gilmar', 'Gil@gmail.com', 'Gilmar123', '07/12/1999'), (6, 'Carlos', 'carlinhos1988@gmail.com', 'Carlinhos123', '18/06/1988'), (7, 'Cris', 'cris@gmail.com', 'Cris123', '06/09/1981')]\n"
     ]
    }
   ],
   "source": [
    "import sqlite3\n",
    "\n",
    "BD = sqlite3.connect(\"MyBD_py.db\")\n",
    "\n",
    "c = BD.cursor()\n",
    "\n",
    "c.execute(\"SELECT * FROM usuarios\")\n",
    "\n",
    "print(c.fetchall())"
   ]
  },
  {
   "cell_type": "code",
   "execution_count": 33,
   "metadata": {},
   "outputs": [
    {
     "name": "stdout",
     "output_type": "stream",
     "text": [
      "Usuarios 5 deletado com sucesso\n"
     ]
    }
   ],
   "source": [
    "import sqlite3\n",
    "\n",
    "BD = sqlite3.connect(\"MyBD_py.db\")\n",
    "\n",
    "c = BD.cursor()\n",
    "\n",
    "id_usuario = \"5\"\n",
    "\n",
    "c.execute(\"\"\"DELETE FROM usuarios WHERE id=?\"\"\",\n",
    "          (id_usuario))\n",
    "\n",
    "\n",
    "BD.commit()\n",
    "\n",
    "print(f\"Usuarios { id_usuario } deletado com sucesso\")\n",
    "\n",
    "BD.close()"
   ]
  }
 ],
 "metadata": {
  "kernelspec": {
   "display_name": "base",
   "language": "python",
   "name": "python3"
  },
  "language_info": {
   "codemirror_mode": {
    "name": "ipython",
    "version": 3
   },
   "file_extension": ".py",
   "mimetype": "text/x-python",
   "name": "python",
   "nbconvert_exporter": "python",
   "pygments_lexer": "ipython3",
   "version": "3.11.5"
  }
 },
 "nbformat": 4,
 "nbformat_minor": 2
}
