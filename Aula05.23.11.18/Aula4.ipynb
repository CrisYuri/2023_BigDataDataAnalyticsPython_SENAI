{
 "cells": [
  {
   "cell_type": "code",
   "execution_count": 2,
   "metadata": {},
   "outputs": [
    {
     "name": "stdout",
     "output_type": "stream",
     "text": [
      "José está em aula!\n",
      "José está estudando\n",
      "Maria está assistindo aula no SENAI!\n",
      "Maria está na aula de Data Analytics com Python!\n",
      "Fernanda É uma variável global e Maria é local!\n"
     ]
    }
   ],
   "source": [
    "#Varáveis Globais x Locais\n",
    "\n",
    "nome = \"José\"\n",
    "\n",
    "def EscreveGlob():\n",
    "    print(f\"{nome} está em aula!\")\n",
    "\n",
    "def EscreveInfoGlob():\n",
    "    print(f\"{nome} está estudando\")\n",
    "\n",
    "EscreveGlob()\n",
    "EscreveInfoGlob()\n",
    "nome = \"Fernanda\"\n",
    "\n",
    "def EscreveLoc():\n",
    "    nome = \"Maria\"\n",
    "    print(f\"{nome} está assistindo aula no SENAI!\")\n",
    "\n",
    "def EscreveInfoLoc():\n",
    "    nome = \"Maria\"\n",
    "    print(f\"{nome} está na aula de Data Analytics com Python!\")\n",
    "\n",
    "EscreveLoc()\n",
    "EscreveInfoLoc()\n",
    "\n",
    "print (nome + ' É uma variável global e Maria é local!')\n"
   ]
  },
  {
   "cell_type": "code",
   "execution_count": 5,
   "metadata": {},
   "outputs": [
    {
     "name": "stdout",
     "output_type": "stream",
     "text": [
      "392.5\n",
      "392.5\n"
     ]
    }
   ],
   "source": [
    "# Varargs - para passar \"n\" argumentos para uma função\n",
    "\n",
    "def calcular_imposto(valor, perc_ir):\n",
    "    ir = valor * perc_ir\n",
    "    iss = valor * 0.05\n",
    "    csll = valor * 0.0375\n",
    "    pis = valor * 0.03\n",
    "    return ir + iss + csll + pis\n",
    "\n",
    "print(calcular_imposto(1000, perc_ir = 0.275))\n",
    "\n",
    "def calcular_imposto2(valor, *args):\n",
    "    total_imposto = 0\n",
    "    for item in args:\n",
    "        total_imposto += valor * item\n",
    "    return total_imposto\n",
    "\n",
    "print(calcular_imposto2(1000, 0.275, 0.05, 0.0375, 0.03))"
   ]
  },
  {
   "cell_type": "code",
   "execution_count": 1,
   "metadata": {},
   "outputs": [
    {
     "name": "stdout",
     "output_type": "stream",
     "text": [
      "21\n",
      "4\n"
     ]
    },
    {
     "name": "stdout",
     "output_type": "stream",
     "text": [
      "[[ 22.  32.  13.]\n",
      " [553.  22.  12.]\n",
      " [ 56.  23.  98.]]\n"
     ]
    }
   ],
   "source": [
    "def soma(*args):\n",
    "    resultado = 0\n",
    "\n",
    "    for x in args:\n",
    "        resultado += x\n",
    "\n",
    "    print(resultado)\n",
    "\n",
    "soma(1,2,3,4,5,6)\n",
    "soma(1,3)\n",
    "\n",
    "import numpy as np\n",
    "cont = 0\n",
    "def Matrix3_3(cont, *args):\n",
    "    Mat = np.zeros([int(len(args)/3), int(len(args)/3)])\n",
    "    for x in range(int(len(args)/3)):\n",
    "        for y in range(int(len(args)/3)):\n",
    "            Mat[x][y] = args[cont]\n",
    "            cont += 1\n",
    "    print(Mat)\n",
    "\n",
    "Matrix3_3(cont, 22,32,13,553,22,12,56,23,98)"
   ]
  },
  {
   "cell_type": "markdown",
   "metadata": {},
   "source": []
  },
  {
   "cell_type": "code",
   "execution_count": 7,
   "metadata": {},
   "outputs": [
    {
     "name": "stdout",
     "output_type": "stream",
     "text": [
      "O menor número é: 4\n",
      "O maior número é: 99\n"
     ]
    }
   ],
   "source": [
    "import math\n",
    "\n",
    "def MenorNumero(*args):\n",
    "    oMenor = math.inf\n",
    "    for x in args:\n",
    "        if (oMenor >= x):\n",
    "            oMenor = x\n",
    "\n",
    "    return (oMenor)\n",
    "\n",
    "print('O menor número é: ' + str(MenorNumero(14,5,99,4,9,63)))\n",
    "\n",
    "def MaiorNumero(*args):\n",
    "    oMaior = -math.inf\n",
    "    for x in args:\n",
    "        if (oMaior <= x):\n",
    "            oMaior = x\n",
    "    return(oMaior)\n",
    "\n",
    "print('O maior número é: '+ str(MaiorNumero(14,5,99,4,9,63)))"
   ]
  },
  {
   "cell_type": "code",
   "execution_count": 8,
   "metadata": {},
   "outputs": [
    {
     "name": "stdout",
     "output_type": "stream",
     "text": [
      "Maria tem 18 anos!\n"
     ]
    }
   ],
   "source": [
    "class Pessoa:\n",
    "    def __init__(self, nome, idade):\n",
    "        self.nome = nome\n",
    "        self.idade = idade\n",
    "\n",
    "    def apresenta(self):\n",
    "        print(f'{self.nome} tem {self.idade} anos!')\n",
    "\n",
    "Pessoa1 = Pessoa(\"Joao\", \"15\")\n",
    "Pessoa2 = Pessoa(\"Maria\", \"18\")\n",
    "\n",
    "Pessoa.apresenta(Pessoa2)\n",
    "\n"
   ]
  },
  {
   "cell_type": "code",
   "execution_count": 10,
   "metadata": {},
   "outputs": [
    {
     "name": "stdout",
     "output_type": "stream",
     "text": [
      "Sou um(a) Banana e minha cor é Amarela!\n",
      "Sou um(a) Melancia e minha cor é Verde!\n"
     ]
    }
   ],
   "source": [
    "class Fruta:\n",
    "    def __init__(self, tipo, cor) -> None:\n",
    "        self.tipo = tipo\n",
    "        self.cor = cor\n",
    "    def MostrarPropriedades(self):\n",
    "        print(f'Sou um(a) {self.tipo} e minha cor é {self.cor}!')\n",
    "\n",
    "\n",
    "NovaFruta = Fruta(\"Banana\",\"Amarela\")\n",
    "NewFruit = Fruta(\"Melancia\",\"Verde\")\n",
    "\n",
    "NovaFruta.MostrarPropriedades()\n",
    "NewFruit.MostrarPropriedades()\n",
    "\n"
   ]
  },
  {
   "cell_type": "code",
   "execution_count": 12,
   "metadata": {},
   "outputs": [
    {
     "name": "stdout",
     "output_type": "stream",
     "text": [
      "O Bichano Branco está comendo\n",
      "O Totó Preto está comendo\n",
      "O Pernalonga Cinza está comendo\n"
     ]
    }
   ],
   "source": [
    "class Animal():\n",
    "    def __init__(self, nome, cor):\n",
    "        self.__nome = nome\n",
    "        self.__cor = cor\n",
    "    def comer(self):\n",
    "        print(f\"O {self.__nome} {self.__cor} está comendo\")\n",
    "\n",
    "class Gato(Animal):\n",
    "    def __init__(self, nome, cor):\n",
    "        super().__init__(nome, cor)\n",
    "\n",
    "class Cachorro(Animal):\n",
    "    def __init__(self, nome, cor):\n",
    "        super().__init__(nome, cor)\n",
    "\n",
    "class Coelho(Animal):\n",
    "    def __init__(self, nome, cor):\n",
    "        super().__init__(nome, cor)\n",
    "\n",
    "gato = Gato(\"Bichano\",\"Branco\")\n",
    "cachorro = Cachorro(\"Totó\",\"Preto\")\n",
    "coelho = Coelho(\"Pernalonga\",\"Cinza\")\n",
    "\n",
    "gato.comer()\n",
    "cachorro.comer()\n",
    "coelho.comer()\n",
    "\n"
   ]
  }
 ],
 "metadata": {
  "kernelspec": {
   "display_name": "base",
   "language": "python",
   "name": "python3"
  },
  "language_info": {
   "codemirror_mode": {
    "name": "ipython",
    "version": 3
   },
   "file_extension": ".py",
   "mimetype": "text/x-python",
   "name": "python",
   "nbconvert_exporter": "python",
   "pygments_lexer": "ipython3",
   "version": "3.11.5"
  }
 },
 "nbformat": 4,
 "nbformat_minor": 2
}
