{
  "cells": [
    {
      "cell_type": "markdown",
      "metadata": {
        "id": "M6sWMiER1zqO"
      },
      "source": [
        "# Lista de Exercícios 1 - Programação Python"
      ]
    },
    {
      "cell_type": "markdown",
      "metadata": {
        "id": "q31YWwK11zqS"
      },
      "source": [
        "##### Disciplina: Fundamentos de *Big Data* & *Data Analytics* com Python\n",
        "##### Escola SENAI \"Almirante Tamandaré\"\n",
        "Aluno: 'nome do aluno'\n",
        "\n",
        "Professor: Vinícius B. Suterio"
      ]
    },
    {
      "cell_type": "markdown",
      "metadata": {
        "id": "41b2DaMV1zqT"
      },
      "source": [
        "##### 1. Leia um número e exiba seu sucessor"
      ]
    },
    {
      "cell_type": "code",
      "execution_count": null,
      "metadata": {
        "id": "bGaNlH_z1zqT",
        "outputId": "e320115b-247c-4e1e-9a2b-b438e7be1f44"
      },
      "outputs": [
        {
          "name": "stdout",
          "output_type": "stream",
          "text": [
            "6\n"
          ]
        }
      ],
      "source": [
        "numero = int(input(\"Insira um número: \"))\n",
        "print(numero +1)"
      ]
    },
    {
      "cell_type": "markdown",
      "metadata": {
        "id": "b3r1UWhX1zqV"
      },
      "source": [
        "##### 2. Calcular a média final ($M_{final}$) dadas as notas de 3 provas e produzir uma saída com a média e a situação do aluno de acordo com o seguinte critério:  $M_{final}\\geq 70, aprovado$; $50<M_{final}<70, exame$; $M_{final}\\leq50, reprovado$."
      ]
    },
    {
      "cell_type": "code",
      "execution_count": null,
      "metadata": {
        "id": "LcPOVFd91zqV",
        "outputId": "8ee75d33-8e67-4091-d23a-5b9f9b41a2fa"
      },
      "outputs": [
        {
          "name": "stdout",
          "output_type": "stream",
          "text": [
            "Média final: 4.67\n",
            "Reprovado\n"
          ]
        }
      ],
      "source": [
        "nota1 = int(input(\"Nota 1:\"))\n",
        "nota2 = int(input(\"Nota 2:\"))\n",
        "nota3 = int(input(\"Nota 3:\"))\n",
        "\n",
        "media = (nota1 + nota2 + nota3)/3\n",
        "\n",
        "print(\"Média final: {:.2f}\".format(media))\n",
        "\n",
        "if media >= 7:\n",
        "    print(\"Aprovado\")\n",
        "elif media > 5:\n",
        "    print(\"Exame\")\n",
        "else:\n",
        "    print(\"Reprovado\")\n"
      ]
    },
    {
      "cell_type": "markdown",
      "metadata": {
        "id": "w7sQhdA51zqW"
      },
      "source": [
        "##### 3. Calcular a quantidade dinheiro gasta por um fumante. Dados: o número de anos que ele fuma, o nº de cigarros fumados por dia e o preço de uma carteira."
      ]
    },
    {
      "cell_type": "code",
      "execution_count": null,
      "metadata": {
        "id": "DxJ_d8Xx1zqW",
        "outputId": "4cbec787-1638-443c-ea3e-3332c552e5c8"
      },
      "outputs": [
        {
          "name": "stdout",
          "output_type": "stream",
          "text": [
            "O gasto é de: R$ 4015.00, em 2 anos, fumando 10 cigarros por dia, a R$ 11.00 a carteira\n"
          ]
        }
      ],
      "source": [
        "anos = int(input(\"Número de anos que fuma: \"))\n",
        "nCigarros = int(input(\"Número de cigarros fumados por dia: \"))\n",
        "precoCarteira = float(input(\"Preço da carteira: \"))\n",
        "\n",
        "carteirasDia = nCigarros/20\n",
        "\n",
        "gastoAnos = anos * 365 * carteirasDia * precoCarteira\n",
        "\n",
        "print(\"O gasto é de: R$ {:.2f}, em {} anos, fumando {} cigarros por dia, a R$ {:.2f} a carteira\".format(gastoAnos, anos, nCigarros, precoCarteira))"
      ]
    },
    {
      "cell_type": "markdown",
      "metadata": {
        "id": "7Opk4vgh1zqX"
      },
      "source": [
        "##### 4. Ler dois números inteiros, x e y, e imprimir o quociente e o resto da divisão inteira entre eles."
      ]
    },
    {
      "cell_type": "code",
      "execution_count": null,
      "metadata": {
        "id": "yjfCeJy71zqX",
        "outputId": "bf727abe-1e78-48db-d9e4-4cc7af34a444"
      },
      "outputs": [
        {
          "name": "stdout",
          "output_type": "stream",
          "text": [
            "O quociente de x/y é: 3. \n",
            "O resto de x/y é: 8.\n"
          ]
        }
      ],
      "source": [
        "x = int(input(\"Digite um número inteiro: \"))\n",
        "y = int(input(\"Digite outro número inteiro: \"))\n",
        "\n",
        "quociente = x // y\n",
        "resto = x % y\n",
        "\n",
        "print(\"O quociente de x/y é: {}. \\nO resto de x/y é: {}.\".format(quociente, resto))"
      ]
    },
    {
      "cell_type": "markdown",
      "metadata": {
        "id": "z7YXEhny1zqY"
      },
      "source": [
        "##### 5. Informe a área e volume do cilindro"
      ]
    },
    {
      "cell_type": "code",
      "execution_count": null,
      "metadata": {
        "id": "2HrnEEqb1zqY",
        "outputId": "a95f4751-5a5e-474f-fddb-3b1f39d8765d"
      },
      "outputs": [
        {
          "name": "stdout",
          "output_type": "stream",
          "text": [
            "A área total do cilindro é: 628.32 metros quadrados.\n",
            "O volume do cilindro é: 3141.59 metros cúbicos.\n"
          ]
        }
      ],
      "source": [
        "import math\n",
        "\n",
        "raio = float(input(\"Insira o raio da base do em metros: \"))\n",
        "altura = float(input(\"Insira a altura do cilindro em metros: \"))\n",
        "\n",
        "areaBase = 2*((2*math.pi)*(pow(raio,2)))\n",
        "\n",
        "areaRetangulo = altura*((2*math.pi)*raio)\n",
        "\n",
        "areaTotal = areaBase + areaRetangulo\n",
        "\n",
        "volume = areaBase * altura\n",
        "\n",
        "print(\"A área total do cilindro é: {:.2f} metros quadrados.\\nO volume do cilindro é: {:.2f} metros cúbicos.\".format(areaTotal, volume))\n",
        "\n",
        "\n"
      ]
    },
    {
      "cell_type": "markdown",
      "metadata": {
        "id": "Ipz5tnRh1zqY"
      },
      "source": [
        "##### 6. Leia dois valores reais do teclado, calcule e imprima na tela:\n",
        "a-) A soma destes valores\n",
        "\n",
        "b-) O produto deles\n",
        "\n",
        "c-) O quociente entre eles"
      ]
    },
    {
      "cell_type": "code",
      "execution_count": null,
      "metadata": {
        "id": "mN4P_hPf1zqY",
        "outputId": "0a1c1095-3399-4d37-8a83-016aeaaf67b7"
      },
      "outputs": [
        {
          "name": "stdout",
          "output_type": "stream",
          "text": [
            "A soma destes valores é 6.00, o produto é 8.75 e o quociente entre eles é 0.71.\n"
          ]
        }
      ],
      "source": [
        "n1 = float(input(\"Digite um número real 1: \"))\n",
        "n2 = float(input(\"Digite um número real 2: \"))\n",
        "\n",
        "print(\"A soma destes valores é {:.2f}, o produto é {:.2f} e o quociente entre eles é {:.2f}.\".format(n1+n2, n1*n2, n1/n2))"
      ]
    },
    {
      "cell_type": "markdown",
      "metadata": {
        "id": "yI6EigVY1zqY"
      },
      "source": [
        "##### 7. Leia 3 números reais do teclado e verificar se o primeiro é maior que a soma dos outros dois."
      ]
    },
    {
      "cell_type": "code",
      "execution_count": null,
      "metadata": {
        "id": "oYG1xgte1zqZ",
        "outputId": "d6fff5d0-eae4-42f3-d89d-7a96fe8f68b2"
      },
      "outputs": [
        {
          "name": "stdout",
          "output_type": "stream",
          "text": [
            "O número 1 não é maior qua a soma dos demais.\n"
          ]
        }
      ],
      "source": [
        "n1 = float(input(\"Digite um número real 1: \"))\n",
        "n2 = float(input(\"Digite um número real 2: \"))\n",
        "n3 = float(input(\"Digite um número real 3: \"))\n",
        "\n",
        "if n1 > (n2 + n3):\n",
        "    print(\"O número 1 é maior que a soma dos demais.\")\n",
        "else:\n",
        "    print(\"O número 1 não é maior qua a soma dos demais.\")"
      ]
    },
    {
      "cell_type": "markdown",
      "metadata": {
        "id": "o9-P7ICm1zqZ"
      },
      "source": [
        "##### 8. Leia a razão de uma PA (Progressão Aritmética), o seu primeiro e último termos e informe a soma dos elementos dessa PA."
      ]
    },
    {
      "cell_type": "code",
      "execution_count": null,
      "metadata": {
        "id": "ARZXn3jt1zqZ",
        "outputId": "f6f8db58-81a4-4e74-93c1-dd11d5c60877"
      },
      "outputs": [
        {
          "name": "stdout",
          "output_type": "stream",
          "text": [
            "A soma dos elementos dessa PA é 15.00\n"
          ]
        }
      ],
      "source": [
        "razaoPA = float(input(\"Qual a razão da PA: \"))\n",
        "t1 = float(input(\"Qual o primeiro termo da PA: \"))\n",
        "t2 = float(input(\"Qual o último termo da PA: \"))\n",
        "\n",
        "n = ((t2-t1)/razaoPA)+1\n",
        "\n",
        "soma = (n/2) * (t1+t2)\n",
        "\n",
        "print(\"A soma dos elementos dessa PA é {:.2f}\".format(soma))"
      ]
    },
    {
      "cell_type": "markdown",
      "metadata": {
        "id": "JUVEEsif1zqZ"
      },
      "source": [
        "##### 9. Ler um nome do teclado e ver se é igual ao seu nome. Imprimir conforme o caso: “NOME CORRETO” ou “NOME INCORRETO”."
      ]
    },
    {
      "cell_type": "code",
      "execution_count": null,
      "metadata": {
        "id": "SIdAS80x1zqZ",
        "outputId": "740c9cce-8771-4c74-cd90-4a1317c110fd"
      },
      "outputs": [
        {
          "name": "stdout",
          "output_type": "stream",
          "text": [
            "NOME INCORRETO\n"
          ]
        }
      ],
      "source": [
        "nome = \"Cristina\"\n",
        "\n",
        "nomeTestar = input(\"Insira o nome (Primeira letra maúscula): \")\n",
        "\n",
        "if nome == nomeTestar:\n",
        "    print (\"NOME CORRETO\")\n",
        "else:\n",
        "    print(\"NOME INCORRETO\")"
      ]
    },
    {
      "cell_type": "markdown",
      "metadata": {
        "id": "uvf1H7Ub1zqZ"
      },
      "source": [
        "##### 10. Ler 2 números inteiros do teclado (A e B), verificar e imprimir qual deles é o maior, ou a mensagem “A=B” caso sejam iguais."
      ]
    },
    {
      "cell_type": "code",
      "execution_count": null,
      "metadata": {
        "id": "XBkwnIYl1zqa",
        "outputId": "34a97fb9-044c-45b6-a5b5-a854a57c521c"
      },
      "outputs": [
        {
          "name": "stdout",
          "output_type": "stream",
          "text": [
            "A=B\n"
          ]
        }
      ],
      "source": [
        "A = int(input(\"Digite um número inteiro 1: \"))\n",
        "B = int(input(\"Digite um número inteiro 2: \"))\n",
        "\n",
        "if A > B:\n",
        "    print(A)\n",
        "elif A == B:\n",
        "    print (\"A=B\")\n",
        "else:\n",
        "    print(B)"
      ]
    },
    {
      "cell_type": "markdown",
      "metadata": {
        "id": "36479kjz1zqa"
      },
      "source": [
        "##### 11. Que gere o preço de um carro ao consumidor e os valores pagos pelo imposto e pelo lucro do distribuidor, sabendo o custo de fábrica do carro e que são pagos:\n",
        "\n",
        "a-) de imposto: 45% sobre o custo do carro;\n",
        "\n",
        "b-) de lucro do distribuidor: 12% sobre o custo do carro."
      ]
    },
    {
      "cell_type": "code",
      "execution_count": null,
      "metadata": {
        "id": "6CNIov9q1zqa",
        "outputId": "92bb2ad0-b210-485c-b2b6-70ed14a37bf8"
      },
      "outputs": [
        {
          "name": "stdout",
          "output_type": "stream",
          "text": [
            "O preço final do carro para o consumidor é de R$ 3140.00\n"
          ]
        }
      ],
      "source": [
        "custo = float(input(\"Qual o custo de fábrica do carro: \"))\n",
        "imposto = custo * 0.45\n",
        "lucro = custo * 0.12\n",
        "\n",
        "precoFinal = custo + imposto + lucro\n",
        "\n",
        "print(f\"O preço final do carro para o consumidor é de R$ {precoFinal:.2f}\")"
      ]
    },
    {
      "cell_type": "markdown",
      "metadata": {
        "id": "hgV5vUOY1zqa"
      },
      "source": [
        "##### 12. Leia a velocidade máxima permitida em uma avenida e a velocidade com que o motorista estava dirigindo nela e calcule a multa que uma pessoa vai receber, sabendo que são pagos:\n",
        "a-) 50 reais se o motorista estiver ultrapassar em até 10km/h a velocidade permitida (ex.: velocidade máxima: 50km/h; motorista a 60km/h ou a 56km/h);\n",
        "\n",
        "b-) 100 reais, se o motorista ultrapassar de 11 a 30 km/h a velocidade permitida.\n",
        "\n",
        "c-) 200 reais, se estiver acima de 31km/h da velocidade permitida."
      ]
    },
    {
      "cell_type": "code",
      "execution_count": null,
      "metadata": {
        "id": "CQfEey4K1zqa",
        "outputId": "306b40b1-8c4c-4b5c-8913-fdf9255404d9"
      },
      "outputs": [
        {
          "name": "stdout",
          "output_type": "stream",
          "text": [
            "A multa é de R$ 200,00\n"
          ]
        }
      ],
      "source": [
        "vMax = int(input(\"Qual a velocidade máxima da via: \"))\n",
        "vReal = int(input(\"Qual a velocidade com que o motorista estava dirigindo: \"))\n",
        "\n",
        "if vReal >= (vMax + 31):\n",
        "    print(\"A multa é de R$ 200,00\")\n",
        "elif vReal >= (vMax + 11):\n",
        "    print(\"A multa é de R$ 100,00\")\n",
        "elif vReal >= (vMax + 1):\n",
        "    print(\"A multa é de R$ 50,00\")\n",
        "else:\n",
        "    print(\"O motorista estava dirigindo dentro da velocidade máxima permitida\")\n"
      ]
    },
    {
      "cell_type": "markdown",
      "metadata": {
        "id": "r3Alzgwc1zqa"
      },
      "source": [
        "##### 13. Sabendo que latão é constituído de 70% de cobre e 30% de zinco, indique a quantidade de cada um desses componentes para se obter uma certa quantidade de latão (requerida pelo usuário)."
      ]
    },
    {
      "cell_type": "code",
      "execution_count": null,
      "metadata": {
        "id": "zmlMvxKj1zqa",
        "outputId": "44501a65-2a5d-430b-967f-2028918c1548"
      },
      "outputs": [
        {
          "name": "stdout",
          "output_type": "stream",
          "text": [
            "Para obter 100.00 kg de latão, é necessário 70.00 kg de cobre e 30.00 kg de zinco.\n"
          ]
        }
      ],
      "source": [
        "quantidadeLatao = input(\"Insira a quantidade de latão em kg: \")\n",
        "nquantidadeLatao = float(quantidadeLatao)\n",
        "\n",
        "cobre = nquantidadeLatao * 0.7\n",
        "zinco = nquantidadeLatao * 0.3\n",
        "\n",
        "print(f\"Para obter {nquantidadeLatao:.2f} kg de latão, é necessário {cobre:.2f} kg de cobre e {zinco:.2f} kg de zinco.\")\n"
      ]
    },
    {
      "cell_type": "markdown",
      "metadata": {
        "id": "sNzVFa5s1zqa"
      },
      "source": [
        "##### 14. Ler 2 números inteiros do teclado. Se o segundo for diferente de zero, calcular e imprimir o quociente do primeiro pelo segundo. Caso contrário, imprimir a mensagem: “DIVISÃO POR ZERO”."
      ]
    },
    {
      "cell_type": "code",
      "execution_count": null,
      "metadata": {
        "id": "zwsliGpE1zqb",
        "outputId": "6cacb7cb-c341-4654-ad6f-901ff5315f05"
      },
      "outputs": [
        {
          "name": "stdout",
          "output_type": "stream",
          "text": [
            "O quociente de X/Y é 10.00\n"
          ]
        }
      ],
      "source": [
        "X = int(input(\"Digite um número inteiro 1: \"))\n",
        "Y = int(input(\"Digite um número inteiro 2: \"))\n",
        "\n",
        "if Y == 0:\n",
        "    print(\"DIVISÃO POR ZERO\")\n",
        "else:\n",
        "    print(\"O quociente de X/Y é {:.2f}\".format(X/Y))"
      ]
    },
    {
      "cell_type": "markdown",
      "metadata": {
        "id": "V3pcTO3T1zqb"
      },
      "source": [
        "##### 15. Ler três valores e determinar o maior dentre eles."
      ]
    },
    {
      "cell_type": "code",
      "execution_count": null,
      "metadata": {
        "colab": {
          "base_uri": "https://localhost:8080/"
        },
        "id": "RUJO3xbD1zqb",
        "outputId": "e3d753b5-0568-451b-c385-c2295e67e371"
      },
      "outputs": [
        {
          "name": "stdout",
          "output_type": "stream",
          "text": [
            "Insira um valor 1: 3.233\n",
            "Insira um valor 2: 3.234\n",
            "Insira um valor 3: 3\n",
            "O maior valor é 3.234\n"
          ]
        }
      ],
      "source": [
        "v1 = input(\"Insira um valor 1: \")\n",
        "v2 = input(\"Insira um valor 2: \")\n",
        "v3 = input(\"Insira um valor 3: \")\n",
        "\n",
        "nv1 = float(v1)\n",
        "nv2 = float(v2)\n",
        "nv3 = float(v3)\n",
        "\n",
        "maior = nv1\n",
        "\n",
        "if maior < nv2:\n",
        "    maior = nv2\n",
        "if maior < nv3:\n",
        "    maior = nv3\n",
        "\n",
        "print(\"O maior valor é {}\".format(maior))\n",
        "\n"
      ]
    },
    {
      "cell_type": "markdown",
      "metadata": {
        "id": "59s-7Fb11zqb"
      },
      "source": [
        "##### 16. Ler três valores e colocá-los em ordem crescente."
      ]
    },
    {
      "cell_type": "code",
      "execution_count": null,
      "metadata": {
        "colab": {
          "base_uri": "https://localhost:8080/"
        },
        "id": "x841M9ZW1zqb",
        "outputId": "0783a50d-0106-46fe-9ef2-dbb4e80b9f6c"
      },
      "outputs": [
        {
          "name": "stdout",
          "output_type": "stream",
          "text": [
            "Insira um valor 1: 3\n",
            "Insira um valor 2: 4\n",
            "Insira um valor 3: 2\n",
            "[2.0, 3.0, 4.0]\n"
          ]
        }
      ],
      "source": [
        "a = float(input(\"Insira um valor 1: \"))\n",
        "b = float(input(\"Insira um valor 2: \"))\n",
        "c = float(input(\"Insira um valor 3: \"))\n",
        "\n",
        "lista = list()\n",
        "\n",
        "lista.append(a)\n",
        "lista.append(b)\n",
        "lista.append(c)\n",
        "\n",
        "lista.sort()\n",
        "\n",
        "print(lista)"
      ]
    },
    {
      "cell_type": "markdown",
      "metadata": {
        "id": "gvWTUlbN1zqb"
      },
      "source": [
        "##### 17. Ler os três coeficientes de uma equação de segundo grau e determinar suas raízes."
      ]
    },
    {
      "cell_type": "code",
      "execution_count": null,
      "metadata": {
        "colab": {
          "base_uri": "https://localhost:8080/"
        },
        "id": "St_XicW71zqb",
        "outputId": "72f3e087-1e91-47b6-e558-2747e710cd92"
      },
      "outputs": [
        {
          "name": "stdout",
          "output_type": "stream",
          "text": [
            "Dada a função: f(x) = ax² + bx + c:\n",
            "Informe o coeficiente a: 2\n",
            "Informe o coeficiente b: 2\n",
            "Informe o coeficiente c: 2\n",
            "A equação não possui raízes reais\n"
          ]
        }
      ],
      "source": [
        "import math\n",
        "\n",
        "print(\"Dada a função: f(x) = ax² + bx + c:\")\n",
        "a = input(\"Informe o coeficiente a: \")\n",
        "b = input(\"Informe o coeficiente b: \")\n",
        "c = input(\"Informe o coeficiente c: \")\n",
        "\n",
        "A = float(a)\n",
        "B = float(b)\n",
        "C = float(c)\n",
        "\n",
        "d = (B ** 2) - (4 * A * C)\n",
        "\n",
        "if d < 0:\n",
        "\n",
        "    print(\"A equação não possui raízes reais\")\n",
        "\n",
        "elif d == 0:\n",
        "\n",
        "    raizDelta = math.sqrt(d)\n",
        "\n",
        "    x = ((-B) + raizDelta) / (2*A)\n",
        "\n",
        "    print(\"A equação possui uma raíz: {:.2f}\".format(x))\n",
        "\n",
        "else:\n",
        "\n",
        "    raizDelta = math.sqrt(d)\n",
        "\n",
        "    x_1 = ((-B) + raizDelta) / (2*A)\n",
        "    x_2 = ((-B) - raizDelta) / (2*A)\n",
        "\n",
        "    print(\"As raízes da equação são {:.2f} e {:.2f}\".format(x_1, x_2))"
      ]
    },
    {
      "cell_type": "markdown",
      "metadata": {
        "id": "qWPpQpuv1zqb"
      },
      "source": [
        "##### 18. Ler três valores do teclado e dizer se eles formam um triângulo. Caso afirmativo, dizer seu tipo (equilátero, isósceles ou escaleno)."
      ]
    },
    {
      "cell_type": "code",
      "execution_count": null,
      "metadata": {
        "colab": {
          "base_uri": "https://localhost:8080/"
        },
        "id": "NbvrsdQR1zqb",
        "outputId": "cbe1e13c-f8eb-4fdc-d20d-3f4eb613cf35"
      },
      "outputs": [
        {
          "name": "stdout",
          "output_type": "stream",
          "text": [
            "Insira um valor: 6\n",
            "Insira um valor: 5\n",
            "Insira um valor: 2\n",
            "TRIÂNGULO ESCALENO\n"
          ]
        }
      ],
      "source": [
        "lista = list()\n",
        "\n",
        "for i in range (3):\n",
        "    valor = input(\"Insira um valor: \")\n",
        "    lista.append(float(valor))\n",
        "\n",
        "lista.sort()\n",
        "\n",
        "a = lista[2]\n",
        "b = lista[1]\n",
        "c = lista[0]\n",
        "\n",
        "if a >= b+c:\n",
        "    print(\"NAO FORMA TRIÂNGULO\")\n",
        "elif a == b == c:\n",
        "    print(\"TRIÂNGULO EQUILÁTERO\")\n",
        "elif (a == b and a != c) or (a == c and a != b) or (b == c and b != a):\n",
        "    print(\"TRIÂNGULO ISÓSCELES\")\n",
        "elif a != b and a != c and b != c:\n",
        "    print(\"TRIÂNGULO ESCALENO\")"
      ]
    },
    {
      "cell_type": "markdown",
      "metadata": {
        "id": "HcjrbTVW1zqb"
      },
      "source": [
        "##### 19. Ler 4 números inteiros e calcular a soma dos que forem par."
      ]
    },
    {
      "cell_type": "code",
      "execution_count": null,
      "metadata": {
        "colab": {
          "base_uri": "https://localhost:8080/"
        },
        "id": "lfiYYinE1zqp",
        "outputId": "dcd39813-034f-44e5-b104-11cee5ab8685"
      },
      "outputs": [
        {
          "name": "stdout",
          "output_type": "stream",
          "text": [
            "Digite um número inteiro: 2\n",
            "Digite um número inteiro: 3\n",
            "Digite um número inteiro: 1\n",
            "Digite um número inteiro: 2\n",
            "A soma dos números pares é: 4\n"
          ]
        }
      ],
      "source": [
        "lista = list()\n",
        "\n",
        "for i in range(4):\n",
        "    numero = int(input(\"Digite um número inteiro: \"))\n",
        "    lista.append(numero)\n",
        "\n",
        "soma = 0\n",
        "\n",
        "for i in range(len(lista)):\n",
        "    if lista[i]%2 == 0:\n",
        "        soma += lista[i]\n",
        "print(\"A soma dos números pares é: {}\".format(soma))\n"
      ]
    },
    {
      "cell_type": "markdown",
      "metadata": {
        "id": "BUipqpyb1zqp"
      },
      "source": [
        "##### 20. Que informe se um dado ano é ou não bissexto. Obs: um ano é bissexto se ele for divisível por 400 ou se ele for divisível por 4 e não por 100."
      ]
    },
    {
      "cell_type": "code",
      "execution_count": 1,
      "metadata": {
        "colab": {
          "base_uri": "https://localhost:8080/"
        },
        "id": "ebqYKPx41zqp",
        "outputId": "1c428ed8-1bf1-432f-fb52-c74d4b0b7fa9"
      },
      "outputs": [
        {
          "name": "stdout",
          "output_type": "stream",
          "text": [
            "2100 não é um ano bissexto\n"
          ]
        }
      ],
      "source": [
        "ano = int(input(\"Informe um ano: \"))\n",
        "\n",
        "if (ano % 400 == 0) or ((ano % 4 == 0) and (ano % 100 != 0)):\n",
        "    print(\"{} é um ano bissexto\".format(ano))\n",
        "else:\n",
        "    print(\"{} não é um ano bissexto\".format(ano))"
      ]
    }
  ],
  "metadata": {
    "colab": {
      "provenance": []
    },
    "kernelspec": {
      "display_name": "base",
      "language": "python",
      "name": "python3"
    },
    "language_info": {
      "codemirror_mode": {
        "name": "ipython",
        "version": 3
      },
      "file_extension": ".py",
      "mimetype": "text/x-python",
      "name": "python",
      "nbconvert_exporter": "python",
      "pygments_lexer": "ipython3",
      "version": "3.11.5"
    }
  },
  "nbformat": 4,
  "nbformat_minor": 0
}
