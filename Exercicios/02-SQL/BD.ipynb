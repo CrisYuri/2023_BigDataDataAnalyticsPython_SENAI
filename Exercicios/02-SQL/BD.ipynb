{
 "cells": [
  {
   "cell_type": "markdown",
   "metadata": {},
   "source": [
    "### EXERCÍCIO DE FIXACÃO - BANCO DE DADOS SQL\n",
    "##### Nome do banco de dados = CrisDB_py.db\n",
    "##### Tabela = paises\n",
    "##### País | Capital | Código DDI | Língua"
   ]
  },
  {
   "cell_type": "markdown",
   "metadata": {},
   "source": [
    "#### 1 - Criação do Banco de dados e da tabela\n",
    "##### Comando: CREATE"
   ]
  },
  {
   "cell_type": "code",
   "execution_count": 1,
   "metadata": {},
   "outputs": [
    {
     "name": "stdout",
     "output_type": "stream",
     "text": [
      "Tabela pais criada com sucesso\n"
     ]
    }
   ],
   "source": [
    "import sqlite3\n",
    "\n",
    "BD = sqlite3.connect(\"CrisDB_py.db\")\n",
    "c = BD.cursor()\n",
    "\n",
    "c.execute((\"\"\"CREATE TABLE IF NOT EXISTS paises (\n",
    "          id INTEGER PRIMARY KEY AUTOINCREMENT,\n",
    "          pais VARCHAR(50),\n",
    "          capital VARCHAR(50),\n",
    "          ddi INTEGER(3)\n",
    ")\"\"\"))\n",
    "\n",
    "BD.commit()\n",
    "print(\"Tabela pais criada com sucesso\")\n",
    "BD.close()"
   ]
  },
  {
   "cell_type": "markdown",
   "metadata": {},
   "source": [
    "#### 2- Alterar tabela paises, inserindo nova coluna: lingua\n",
    "##### Comando: ALTER"
   ]
  },
  {
   "cell_type": "code",
   "execution_count": 2,
   "metadata": {},
   "outputs": [
    {
     "name": "stdout",
     "output_type": "stream",
     "text": [
      "Tabela paises alterada com sucesso\n"
     ]
    }
   ],
   "source": [
    "import sqlite3\n",
    "\n",
    "BD = sqlite3.connect(\"CrisDB_py.db\")\n",
    "c = BD.cursor()\n",
    "\n",
    "c.execute(\"\"\"ALTER TABLE paises ADD lingua VARCHAR(50)\"\"\")\n",
    "\n",
    "BD.commit()\n",
    "print(\"Tabela paises alterada com sucesso\")\n",
    "BD.close()"
   ]
  },
  {
   "cell_type": "markdown",
   "metadata": {},
   "source": [
    "#### 3- Inserir registros à tabela paises\n",
    "##### Comando: INSERT"
   ]
  },
  {
   "cell_type": "code",
   "execution_count": 3,
   "metadata": {},
   "outputs": [
    {
     "name": "stdout",
     "output_type": "stream",
     "text": [
      "Paises adicionados com sucesso V1\n"
     ]
    }
   ],
   "source": [
    "import sqlite3\n",
    "\n",
    "BD = sqlite3.connect(\"CrisDB_py.db\")\n",
    "c = BD.cursor()\n",
    "\n",
    "c.execute(\"\"\"INSERT INTO paises(pais, capital, ddi, lingua)\n",
    "          VALUES ('Brasil', 'Brasilia','55','portugues')\"\"\")\n",
    "c.execute(\"\"\"INSERT INTO paises(pais, capital, ddi, lingua)\n",
    "          VALUES ('Estados Unidos', 'Washington','1','ingles')\"\"\")\n",
    "c.execute(\"\"\"INSERT INTO paises(pais, capital, ddi, lingua)\n",
    "          VALUES ('Argentina', 'Buenos Aires','54','espanhol')\"\"\")\n",
    "\n",
    "BD.commit()\n",
    "print(\"Paises adicionados com sucesso V1\")\n",
    "BD.close()"
   ]
  },
  {
   "cell_type": "markdown",
   "metadata": {},
   "source": [
    "#### 4- Inserir vários registros de uma lista à tabela paises \n",
    "##### Criar lista de paises, Comando: INSERT e .executemany"
   ]
  },
  {
   "cell_type": "code",
   "execution_count": 4,
   "metadata": {},
   "outputs": [
    {
     "name": "stdout",
     "output_type": "stream",
     "text": [
      "Paises listados adicionados com sucesso V2\n"
     ]
    }
   ],
   "source": [
    "import sqlite3\n",
    "\n",
    "BD = sqlite3.connect(\"CrisDB_py.db\")\n",
    "c = BD.cursor()\n",
    "\n",
    "lista = [\n",
    "    ('Canada', 'Ottawa', '1', 'ingles e frances'),\n",
    "    ('Portugal', 'Lisboa', '351', 'portugues'),\n",
    "    ('Japao', 'Tokio', '81', 'japones'),\n",
    "    ('Turquia', 'Ancara', '90', 'turco')\n",
    "]\n",
    "\n",
    "c.executemany(\"\"\"INSERT INTO paises(pais, capital, ddi, lingua)\n",
    "              VALUES (?,?,?,?)\"\"\",\n",
    "              lista)\n",
    "\n",
    "BD.commit()\n",
    "print(\"Paises listados adicionados com sucesso V2\")\n",
    "BD.close()\n"
   ]
  },
  {
   "cell_type": "markdown",
   "metadata": {},
   "source": [
    "#### 5- Inserir registros perguntando ao usuário \n",
    "##### Comando: INSERT e input()"
   ]
  },
  {
   "cell_type": "code",
   "execution_count": 5,
   "metadata": {},
   "outputs": [
    {
     "name": "stdout",
     "output_type": "stream",
     "text": [
      "Pais adicionado com sucesso V3\n"
     ]
    }
   ],
   "source": [
    "import sqlite3\n",
    "\n",
    "BD = sqlite3.connect(\"CrisDB_py.db\")\n",
    "c = BD.cursor()\n",
    "\n",
    "p_pais = input('País: ')\n",
    "p_capital = input('Capital: ')\n",
    "p_ddi = input('DDI: ')\n",
    "p_lingua = input('Língua: ')\n",
    "\n",
    "c.execute(\"\"\"INSERT INTO paises(pais, capital, ddi, lingua)\n",
    "              VALUES (?,?,?,?)\"\"\",\n",
    "              (p_pais, p_capital, p_ddi, p_lingua))\n",
    "\n",
    "BD.commit()\n",
    "print(\"Pais adicionado com sucesso V3\")\n",
    "BD.close()"
   ]
  },
  {
   "cell_type": "markdown",
   "metadata": {},
   "source": [
    "#### 6- Atualizar item da tabela\n",
    "##### Comando: UPDATE | WHERE"
   ]
  },
  {
   "cell_type": "code",
   "execution_count": 6,
   "metadata": {},
   "outputs": [
    {
     "name": "stdout",
     "output_type": "stream",
     "text": [
      "Pais 2 modificado com sucesso V1\n"
     ]
    }
   ],
   "source": [
    "import sqlite3\n",
    "\n",
    "BD = sqlite3.connect(\"CrisDB_py.db\")\n",
    "c = BD.cursor()\n",
    "\n",
    "id_paises = 2\n",
    "novo_pais = 'Italia'\n",
    "nova_capital = 'Roma'\n",
    "novo_ddi = '39'\n",
    "nova_lingua = 'italiano'\n",
    "\n",
    "c.execute(\"\"\"UPDATE paises SET pais=?, capital=?, ddi=?, lingua=? WHERE id=?\"\"\",\n",
    "          (novo_pais, nova_capital, novo_ddi, nova_lingua, id_paises))\n",
    "\n",
    "BD.commit()\n",
    "print(f\"Pais {id_paises} modificado com sucesso V1\")\n",
    "BD.close()"
   ]
  },
  {
   "cell_type": "markdown",
   "metadata": {},
   "source": [
    "#### 7- Atualizar item da tabela perguntando para usuário\n",
    "##### Comandos: SELECT * FROM | input() | UPDATE | WHERE"
   ]
  },
  {
   "cell_type": "code",
   "execution_count": 7,
   "metadata": {},
   "outputs": [
    {
     "name": "stdout",
     "output_type": "stream",
     "text": [
      "(1, 'Brasil', 'Brasilia', 55, 'portugues')\n",
      "(2, 'Italia', 'Roma', 39, 'italiano')\n",
      "(3, 'Argentina', 'Buenos Aires', 54, 'espanhol')\n",
      "(4, 'Canada', 'Ottawa', 1, 'ingles e frances')\n",
      "(5, 'Portugal', 'Lisboa', 351, 'portugues')\n",
      "(6, 'Japao', 'Tokio', 81, 'japones')\n",
      "(7, 'Turquia', 'Ancara', 90, 'turco')\n",
      "(8, 'Islandia', 'Reiquiavique', 354, 'islandes')\n",
      "Pais 5 modificado com sucesso V2\n"
     ]
    }
   ],
   "source": [
    "import sqlite3\n",
    "\n",
    "BD = sqlite3.connect(\"CrisDB_py.db\")\n",
    "c = BD.cursor()\n",
    "\n",
    "c.execute(\"\"\"SELECT * FROM paises\"\"\")\n",
    "\n",
    "for linha in c.fetchall():\n",
    "    print(linha)\n",
    "\n",
    "id_paises = input('id do país: ')\n",
    "novo_pais = input('País: ')\n",
    "nova_capital = input('Capital: ')\n",
    "novo_ddi = input('DDI: ')\n",
    "nova_lingua = input('Língua: ')\n",
    "\n",
    "c.execute(\"\"\"UPDATE paises SET pais=?, capital=?, ddi=?, lingua=? WHERE id=?\"\"\",\n",
    "          (novo_pais, nova_capital, novo_ddi, nova_lingua, id_paises))\n",
    "\n",
    "BD.commit()\n",
    "print(f\"Pais {id_paises} modificado com sucesso V2\")\n",
    "BD.close()"
   ]
  },
  {
   "cell_type": "markdown",
   "metadata": {},
   "source": [
    "#### 8- Deletar item da tabela\n",
    "##### Comandos: DELETE FROM | WHERE"
   ]
  },
  {
   "cell_type": "code",
   "execution_count": 8,
   "metadata": {},
   "outputs": [
    {
     "name": "stdout",
     "output_type": "stream",
     "text": [
      "Pais 1 deletado com sucesso\n"
     ]
    }
   ],
   "source": [
    "import sqlite3\n",
    "\n",
    "BD = sqlite3.connect(\"CrisDB_py.db\")\n",
    "c = BD.cursor()\n",
    "\n",
    "id_paises = \"1\"\n",
    "\n",
    "c.execute(\"\"\"DELETE FROM paises WHERE id = ?\"\"\", (id_paises))\n",
    "\n",
    "BD.commit()\n",
    "print(f\"Pais {id_paises} deletado com sucesso\")\n",
    "BD.close()"
   ]
  },
  {
   "cell_type": "markdown",
   "metadata": {},
   "source": [
    "#### 9- Buscar registro na tabela existente\n",
    "##### Comando: SELECT"
   ]
  },
  {
   "cell_type": "code",
   "execution_count": 9,
   "metadata": {},
   "outputs": [
    {
     "name": "stdout",
     "output_type": "stream",
     "text": [
      "(2, 'Italia', 'Roma', 39, 'italiano')\n",
      "(3, 'Argentina', 'Buenos Aires', 54, 'espanhol')\n",
      "(4, 'Canada', 'Ottawa', 1, 'ingles e frances')\n",
      "(5, 'Noruega', 'Oslo', 47, 'noruegues')\n",
      "(6, 'Japao', 'Tokio', 81, 'japones')\n",
      "(7, 'Turquia', 'Ancara', 90, 'turco')\n",
      "(8, 'Islandia', 'Reiquiavique', 354, 'islandes')\n"
     ]
    }
   ],
   "source": [
    "import sqlite3\n",
    "\n",
    "BD = sqlite3.connect(\"CrisDB_py.db\")\n",
    "c = BD.cursor()\n",
    "\n",
    "c.execute(\"\"\"SELECT * FROM paises\"\"\")\n",
    "\n",
    "for linha in c.fetchall():\n",
    "    print(linha)\n",
    "\n",
    "BD.close()"
   ]
  }
 ],
 "metadata": {
  "kernelspec": {
   "display_name": "base",
   "language": "python",
   "name": "python3"
  },
  "language_info": {
   "codemirror_mode": {
    "name": "ipython",
    "version": 3
   },
   "file_extension": ".py",
   "mimetype": "text/x-python",
   "name": "python",
   "nbconvert_exporter": "python",
   "pygments_lexer": "ipython3",
   "version": "3.11.5"
  }
 },
 "nbformat": 4,
 "nbformat_minor": 2
}
